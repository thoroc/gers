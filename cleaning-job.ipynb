{
 "cells": [
  {
   "cell_type": "code",
   "execution_count": 56,
   "metadata": {},
   "outputs": [
    {
     "data": {
      "application/javascript": [
       "IPython.OutputArea.prototype._should_scroll = function(lines) {\n",
       "    return false;\n",
       "}\n"
      ],
      "text/plain": [
       "<IPython.core.display.Javascript object>"
      ]
     },
     "metadata": {},
     "output_type": "display_data"
    }
   ],
   "source": [
    "%%javascript \n",
    "IPython.OutputArea.prototype._should_scroll = function(lines) {\n",
    "    return false;\n",
    "}"
   ]
  },
  {
   "cell_type": "code",
   "execution_count": 55,
   "metadata": {},
   "outputs": [],
   "source": [
    "%reload_ext autoreload\n",
    "%autoreload 2"
   ]
  },
  {
   "cell_type": "code",
   "execution_count": 2,
   "metadata": {},
   "outputs": [
    {
     "data": {
      "text/plain": [
       "'/home/pluk.eeghlan.net/thomas.roche/Projects'"
      ]
     },
     "execution_count": 2,
     "metadata": {},
     "output_type": "execute_result"
    }
   ],
   "source": [
    "import pandas as pd\n",
    "import ipywidgets as widgets\n",
    "import numpy as np\n",
    "import re\n",
    "import os\n",
    "import sys\n",
    "\n",
    "from pathlib import Path\n",
    "\n",
    "from importlib import reload\n",
    "\n",
    "# while True:\n",
    "# loading local helpers\n",
    "module_path = os.path.abspath(os.path.join('..'))\n",
    "\n",
    "if module_path not in sys.path:\n",
    "    sys.path.append(module_path)\n",
    "        \n",
    "module_path"
   ]
  },
  {
   "cell_type": "code",
   "execution_count": 3,
   "metadata": {},
   "outputs": [],
   "source": [
    "from lib.widget_helper import get_dirs\n",
    "from lib.widget_helper import get_files\n",
    "from lib.widget_helper import get_data_path\n",
    "from lib.widget_helper import get_year\n",
    "from lib.widget_helper import get_sheets\n",
    "from lib.widget_helper import get_reports\n",
    "from lib.widget_helper import get_category"
   ]
  },
  {
   "cell_type": "code",
   "execution_count": 4,
   "metadata": {},
   "outputs": [
    {
     "data": {
      "application/vnd.jupyter.widget-view+json": {
       "model_id": "53646d77e5cd4f09bb5fcf5f94f114cd",
       "version_major": 2,
       "version_minor": 0
      },
      "text/plain": [
       "Text(value='data', description='Dir:', placeholder='data')"
      ]
     },
     "metadata": {},
     "output_type": "display_data"
    }
   ],
   "source": [
    "# declare the root dir for the data\n",
    "DATA_PATH = get_data_path()"
   ]
  },
  {
   "cell_type": "code",
   "execution_count": 5,
   "metadata": {
    "scrolled": false
   },
   "outputs": [
    {
     "data": {
      "application/vnd.jupyter.widget-view+json": {
       "model_id": "b5cb4492c3434595b44eee67d39e65b0",
       "version_major": 2,
       "version_minor": 0
      },
      "text/plain": [
       "Dropdown(description='Dir:', options=('clean', 'src'), value=None)"
      ]
     },
     "metadata": {},
     "output_type": "display_data"
    }
   ],
   "source": [
    "# select the dir to read from \n",
    "INPUT_DIR = get_dirs(DATA_PATH.value)"
   ]
  },
  {
   "cell_type": "code",
   "execution_count": 6,
   "metadata": {
    "scrolled": true
   },
   "outputs": [
    {
     "data": {
      "application/vnd.jupyter.widget-view+json": {
       "model_id": "746d15a66319448686cea32d4475f0d2",
       "version_major": 2,
       "version_minor": 0
      },
      "text/plain": [
       "Dropdown(description='Dir:', options=('clean', 'src'), value=None)"
      ]
     },
     "metadata": {},
     "output_type": "display_data"
    }
   ],
   "source": [
    "# select the dir to output the cleaned up data\n",
    "OUTPUT_DIR = get_dirs(DATA_PATH.value)"
   ]
  },
  {
   "cell_type": "code",
   "execution_count": 7,
   "metadata": {
    "scrolled": true
   },
   "outputs": [
    {
     "data": {
      "application/vnd.jupyter.widget-view+json": {
       "model_id": "27bf179591ed4621a3573b75a550b7ef",
       "version_major": 2,
       "version_minor": 0
      },
      "text/plain": [
       "Dropdown(description='Files:', options=('2009-2010.xls', '2010-2011.xls', '2011-2012.xlsx', '2012-2013.xlsx', …"
      ]
     },
     "metadata": {},
     "output_type": "display_data"
    }
   ],
   "source": [
    "# select the input file from a list\n",
    "input_path = Path(DATA_PATH.value, INPUT_DIR.value)\n",
    "\n",
    "DATA_FILE = get_files(input_path, ['xls', 'xlsx'])"
   ]
  },
  {
   "cell_type": "code",
   "execution_count": 8,
   "metadata": {
    "scrolled": false
   },
   "outputs": [
    {
     "data": {
      "application/vnd.jupyter.widget-view+json": {
       "model_id": "aa1e40f918c440699cac3baaff816d3b",
       "version_major": 2,
       "version_minor": 0
      },
      "text/plain": [
       "Text(value='', description='Year:', placeholder='2019')"
      ]
     },
     "metadata": {},
     "output_type": "display_data"
    }
   ],
   "source": [
    "# set the year as the new/existing dir name \n",
    "YEAR = get_year()"
   ]
  },
  {
   "cell_type": "code",
   "execution_count": 9,
   "metadata": {},
   "outputs": [],
   "source": [
    "# read the file as workbook\n",
    "\n",
    "data_file = Path(input_path, DATA_FILE.value)\n",
    "wb = pd.read_excel(data_file, None)"
   ]
  },
  {
   "cell_type": "code",
   "execution_count": 10,
   "metadata": {
    "scrolled": true
   },
   "outputs": [
    {
     "data": {
      "application/vnd.jupyter.widget-view+json": {
       "model_id": "28a1f3c153414e72a5a8bbebb2661d98",
       "version_major": 2,
       "version_minor": 0
      },
      "text/plain": [
       "Dropdown(description='Sheet:', options=('Table E.1', 'Table E.2', 'Table E.3', 'Table E.4', 'Table 3.1', 'Tabl…"
      ]
     },
     "metadata": {},
     "output_type": "display_data"
    }
   ],
   "source": [
    "SHEET_NAME = get_sheets(wb, 'Table')"
   ]
  },
  {
   "cell_type": "code",
   "execution_count": 11,
   "metadata": {
    "scrolled": false
   },
   "outputs": [
    {
     "data": {
      "text/plain": [
       "['List of Tables',\n",
       " 'Table E.1',\n",
       " 'Table E.2',\n",
       " 'Table E.3',\n",
       " 'Table E.4',\n",
       " 'Table 3.1',\n",
       " 'Table 3.2',\n",
       " 'Table 3.3a',\n",
       " 'Table 3.3b',\n",
       " 'Table 3.3c',\n",
       " 'Table 3.4',\n",
       " 'Table 3.5',\n",
       " 'Table 4.1',\n",
       " 'Table 4.2',\n",
       " 'Table 4.3',\n",
       " 'Table 5.1',\n",
       " 'Table 5.2',\n",
       " 'Table 5.3',\n",
       " 'Table 5.4',\n",
       " 'Table 5.5',\n",
       " 'Table 5.6',\n",
       " 'Table 6.1',\n",
       " 'Table 6.2',\n",
       " 'Table 6.3',\n",
       " 'Table 6.4',\n",
       " 'Table 6.5',\n",
       " 'Table 6.6',\n",
       " 'Table 6.7',\n",
       " 'Table 6.8',\n",
       " 'Table 6.9',\n",
       " 'Table 6.10',\n",
       " 'Table 6.11',\n",
       " 'Table 6.12',\n",
       " 'Table 6.13',\n",
       " 'Table 6.14',\n",
       " 'Table 6.15',\n",
       " 'Table 6.16',\n",
       " 'Table 6.17']"
      ]
     },
     "execution_count": 11,
     "metadata": {},
     "output_type": "execute_result"
    }
   ],
   "source": [
    "# find all sheet with a name starting with 'Table'\n",
    "\n",
    "sheet_names = list(wb.keys())\n",
    "tables = filter(lambda sheet: re.search('Table', sheet), sheet_names)\n",
    "table_names = list(tables)\n",
    "table_names"
   ]
  },
  {
   "cell_type": "code",
   "execution_count": 12,
   "metadata": {},
   "outputs": [
    {
     "data": {
      "text/plain": [
       "collections.OrderedDict"
      ]
     },
     "execution_count": 12,
     "metadata": {},
     "output_type": "execute_result"
    }
   ],
   "source": [
    "type(wb)"
   ]
  },
  {
   "cell_type": "code",
   "execution_count": 13,
   "metadata": {
    "scrolled": true
   },
   "outputs": [
    {
     "data": {
      "text/html": [
       "<div>\n",
       "<style scoped>\n",
       "    .dataframe tbody tr th:only-of-type {\n",
       "        vertical-align: middle;\n",
       "    }\n",
       "\n",
       "    .dataframe tbody tr th {\n",
       "        vertical-align: top;\n",
       "    }\n",
       "\n",
       "    .dataframe thead th {\n",
       "        text-align: right;\n",
       "    }\n",
       "</style>\n",
       "<table border=\"1\" class=\"dataframe\">\n",
       "  <thead>\n",
       "    <tr style=\"text-align: right;\">\n",
       "      <th></th>\n",
       "      <th>Government Expenditure and Revenues Scotland (GERS)</th>\n",
       "    </tr>\n",
       "  </thead>\n",
       "  <tbody>\n",
       "    <tr>\n",
       "      <th>0</th>\n",
       "      <td>2009-10</td>\n",
       "    </tr>\n",
       "    <tr>\n",
       "      <th>1</th>\n",
       "      <td>List of Tables</td>\n",
       "    </tr>\n",
       "    <tr>\n",
       "      <th>2</th>\n",
       "      <td>Executive Summary</td>\n",
       "    </tr>\n",
       "    <tr>\n",
       "      <th>3</th>\n",
       "      <td>Table E.1: Public Sector Total Managed Expendi...</td>\n",
       "    </tr>\n",
       "    <tr>\n",
       "      <th>4</th>\n",
       "      <td>Table E.2: Total Current Revenue: Scotland 200...</td>\n",
       "    </tr>\n",
       "    <tr>\n",
       "      <th>5</th>\n",
       "      <td>Table E.3: Current Budget Balance: Scotland 20...</td>\n",
       "    </tr>\n",
       "    <tr>\n",
       "      <th>6</th>\n",
       "      <td>Table E.4: Net Fiscal Balance: Scotland 2005-0...</td>\n",
       "    </tr>\n",
       "    <tr>\n",
       "      <th>7</th>\n",
       "      <td>Scotland's Public Sector Accounts</td>\n",
       "    </tr>\n",
       "    <tr>\n",
       "      <th>8</th>\n",
       "      <td>Table 3.1: Scotland: Estimated Share of UK Gov...</td>\n",
       "    </tr>\n",
       "    <tr>\n",
       "      <th>9</th>\n",
       "      <td>Table 3.2: Current and Capital Budgets: Scotla...</td>\n",
       "    </tr>\n",
       "    <tr>\n",
       "      <th>10</th>\n",
       "      <td>Table 3.3a: Current and Capital Budgets (Exclu...</td>\n",
       "    </tr>\n",
       "    <tr>\n",
       "      <th>11</th>\n",
       "      <td>Table 3.3b: Current and Capital Budgets (Per C...</td>\n",
       "    </tr>\n",
       "    <tr>\n",
       "      <th>12</th>\n",
       "      <td>Table 3.3c: Current and Capital Budgets (Geogr...</td>\n",
       "    </tr>\n",
       "    <tr>\n",
       "      <th>13</th>\n",
       "      <td>Box 3.3: Current and Capital Budgets: UK 2005-...</td>\n",
       "    </tr>\n",
       "    <tr>\n",
       "      <th>14</th>\n",
       "      <td>Box 3.4: Scottish GDP Including and Excluding ...</td>\n",
       "    </tr>\n",
       "    <tr>\n",
       "      <th>15</th>\n",
       "      <td>Table 3.4: Summary of Total Public Sector Expe...</td>\n",
       "    </tr>\n",
       "    <tr>\n",
       "      <th>16</th>\n",
       "      <td>Box 3.5: Total Managed Expenditure for Scotlan...</td>\n",
       "    </tr>\n",
       "    <tr>\n",
       "      <th>17</th>\n",
       "      <td>Table 3.5: Summary of Current Revenue by Econo...</td>\n",
       "    </tr>\n",
       "    <tr>\n",
       "      <th>18</th>\n",
       "      <td>Public Sector Revenue</td>\n",
       "    </tr>\n",
       "    <tr>\n",
       "      <th>19</th>\n",
       "      <td>Table 4.1: Current Revenue: Scotland 2009-10</td>\n",
       "    </tr>\n",
       "    <tr>\n",
       "      <th>20</th>\n",
       "      <td>Box 4.1: Capital Gains Tax: 2005-06 to 2009-10</td>\n",
       "    </tr>\n",
       "    <tr>\n",
       "      <th>21</th>\n",
       "      <td>Box 4.2: Stamp Duty: 2005-06 to 2009-10</td>\n",
       "    </tr>\n",
       "    <tr>\n",
       "      <th>22</th>\n",
       "      <td>Table 4.2: Current Revenue: Scotland and UK 20...</td>\n",
       "    </tr>\n",
       "    <tr>\n",
       "      <th>23</th>\n",
       "      <td>Table 4.3: Non-North Sea Current Revenue: Scot...</td>\n",
       "    </tr>\n",
       "    <tr>\n",
       "      <th>24</th>\n",
       "      <td>North Sea Revenue</td>\n",
       "    </tr>\n",
       "    <tr>\n",
       "      <th>25</th>\n",
       "      <td>Table 5.1: Total North Sea Revenue: UK 1980-81...</td>\n",
       "    </tr>\n",
       "    <tr>\n",
       "      <th>26</th>\n",
       "      <td>Table 5.2: Composition of North Sea Revenue: U...</td>\n",
       "    </tr>\n",
       "    <tr>\n",
       "      <th>27</th>\n",
       "      <td>Table 5.3: Per Capita Share of North Sea Reven...</td>\n",
       "    </tr>\n",
       "    <tr>\n",
       "      <th>28</th>\n",
       "      <td>Table 5.4: Geographical Share of North Sea Rev...</td>\n",
       "    </tr>\n",
       "    <tr>\n",
       "      <th>29</th>\n",
       "      <td>Table 5.5: Current Revenue (Per Capita Share o...</td>\n",
       "    </tr>\n",
       "    <tr>\n",
       "      <th>30</th>\n",
       "      <td>Table 5.6: Current Revenue (Geographical Share...</td>\n",
       "    </tr>\n",
       "    <tr>\n",
       "      <th>31</th>\n",
       "      <td>Public Sector Expenditure</td>\n",
       "    </tr>\n",
       "    <tr>\n",
       "      <th>32</th>\n",
       "      <td>Table 6.1: Total Expenditure: Scotland 2009-10</td>\n",
       "    </tr>\n",
       "    <tr>\n",
       "      <th>33</th>\n",
       "      <td>Table 6.2: Total Current and Capital Expenditu...</td>\n",
       "    </tr>\n",
       "    <tr>\n",
       "      <th>34</th>\n",
       "      <td>Table 6.3: Current and Capital Expenditure (% ...</td>\n",
       "    </tr>\n",
       "    <tr>\n",
       "      <th>35</th>\n",
       "      <td>Table 6.4: Total Expenditure: Scotland 2005-06...</td>\n",
       "    </tr>\n",
       "    <tr>\n",
       "      <th>36</th>\n",
       "      <td>Table 6.5: Total Expenditure: UK 2005-06 to 20...</td>\n",
       "    </tr>\n",
       "    <tr>\n",
       "      <th>37</th>\n",
       "      <td>Box 6.1: Social Protection Expenditure Scotlan...</td>\n",
       "    </tr>\n",
       "    <tr>\n",
       "      <th>38</th>\n",
       "      <td>Table 6.6: Total Expenditure per capita: Scotl...</td>\n",
       "    </tr>\n",
       "    <tr>\n",
       "      <th>39</th>\n",
       "      <td>Box 6.2: Public Sector Unitary Charge Expendit...</td>\n",
       "    </tr>\n",
       "    <tr>\n",
       "      <th>40</th>\n",
       "      <td>Box 6.3: Expenditure on the 2012 Olympic Games...</td>\n",
       "    </tr>\n",
       "    <tr>\n",
       "      <th>41</th>\n",
       "      <td>Table 6.7: Total Expenditure, Identifiable and...</td>\n",
       "    </tr>\n",
       "    <tr>\n",
       "      <th>42</th>\n",
       "      <td>Table 6.8: Total Identifiable Expenditure: Sco...</td>\n",
       "    </tr>\n",
       "    <tr>\n",
       "      <th>43</th>\n",
       "      <td>Table 6.9: Identifiable Expenditure - Scottish...</td>\n",
       "    </tr>\n",
       "    <tr>\n",
       "      <th>44</th>\n",
       "      <td>Table 6.10: Identifiable Expenditure - Other U...</td>\n",
       "    </tr>\n",
       "    <tr>\n",
       "      <th>45</th>\n",
       "      <td>Table 6.11: Identifiable Expenditure: Scotland...</td>\n",
       "    </tr>\n",
       "    <tr>\n",
       "      <th>46</th>\n",
       "      <td>Table 6.12: Non-Identifiable Expenditure: Scot...</td>\n",
       "    </tr>\n",
       "    <tr>\n",
       "      <th>47</th>\n",
       "      <td>Table 6.13: Non-Identifiable Expenditure: Scot...</td>\n",
       "    </tr>\n",
       "    <tr>\n",
       "      <th>48</th>\n",
       "      <td>Table 6.14: Non-Identifiable Expenditure: UK 2...</td>\n",
       "    </tr>\n",
       "    <tr>\n",
       "      <th>49</th>\n",
       "      <td>Table 6.15: Non-Identifiable Expenditure: Scot...</td>\n",
       "    </tr>\n",
       "    <tr>\n",
       "      <th>50</th>\n",
       "      <td>Box 6.4: Current Balance on Public Services Co...</td>\n",
       "    </tr>\n",
       "    <tr>\n",
       "      <th>51</th>\n",
       "      <td>Table 6.16: Accounting Adjustment: UK 2005-06 ...</td>\n",
       "    </tr>\n",
       "    <tr>\n",
       "      <th>52</th>\n",
       "      <td>Table 6.17: Accounting Adjustment: Scotland 20...</td>\n",
       "    </tr>\n",
       "  </tbody>\n",
       "</table>\n",
       "</div>"
      ],
      "text/plain": [
       "   Government Expenditure and Revenues Scotland (GERS)\n",
       "0                                             2009-10 \n",
       "1                                     List of Tables  \n",
       "2                                   Executive Summary \n",
       "3   Table E.1: Public Sector Total Managed Expendi... \n",
       "4   Table E.2: Total Current Revenue: Scotland 200... \n",
       "5   Table E.3: Current Budget Balance: Scotland 20... \n",
       "6   Table E.4: Net Fiscal Balance: Scotland 2005-0... \n",
       "7                   Scotland's Public Sector Accounts \n",
       "8   Table 3.1: Scotland: Estimated Share of UK Gov... \n",
       "9   Table 3.2: Current and Capital Budgets: Scotla... \n",
       "10  Table 3.3a: Current and Capital Budgets (Exclu... \n",
       "11  Table 3.3b: Current and Capital Budgets (Per C... \n",
       "12  Table 3.3c: Current and Capital Budgets (Geogr... \n",
       "13  Box 3.3: Current and Capital Budgets: UK 2005-... \n",
       "14  Box 3.4: Scottish GDP Including and Excluding ... \n",
       "15  Table 3.4: Summary of Total Public Sector Expe... \n",
       "16  Box 3.5: Total Managed Expenditure for Scotlan... \n",
       "17  Table 3.5: Summary of Current Revenue by Econo... \n",
       "18                              Public Sector Revenue \n",
       "19       Table 4.1: Current Revenue: Scotland 2009-10 \n",
       "20    Box 4.1: Capital Gains Tax: 2005-06 to 2009-10  \n",
       "21           Box 4.2: Stamp Duty: 2005-06 to 2009-10  \n",
       "22  Table 4.2: Current Revenue: Scotland and UK 20... \n",
       "23  Table 4.3: Non-North Sea Current Revenue: Scot... \n",
       "24                                  North Sea Revenue \n",
       "25  Table 5.1: Total North Sea Revenue: UK 1980-81... \n",
       "26  Table 5.2: Composition of North Sea Revenue: U... \n",
       "27  Table 5.3: Per Capita Share of North Sea Reven... \n",
       "28  Table 5.4: Geographical Share of North Sea Rev... \n",
       "29  Table 5.5: Current Revenue (Per Capita Share o... \n",
       "30  Table 5.6: Current Revenue (Geographical Share... \n",
       "31                          Public Sector Expenditure \n",
       "32     Table 6.1: Total Expenditure: Scotland 2009-10 \n",
       "33  Table 6.2: Total Current and Capital Expenditu... \n",
       "34  Table 6.3: Current and Capital Expenditure (% ... \n",
       "35  Table 6.4: Total Expenditure: Scotland 2005-06... \n",
       "36  Table 6.5: Total Expenditure: UK 2005-06 to 20... \n",
       "37  Box 6.1: Social Protection Expenditure Scotlan... \n",
       "38  Table 6.6: Total Expenditure per capita: Scotl... \n",
       "39  Box 6.2: Public Sector Unitary Charge Expendit... \n",
       "40  Box 6.3: Expenditure on the 2012 Olympic Games... \n",
       "41  Table 6.7: Total Expenditure, Identifiable and... \n",
       "42  Table 6.8: Total Identifiable Expenditure: Sco... \n",
       "43  Table 6.9: Identifiable Expenditure - Scottish... \n",
       "44  Table 6.10: Identifiable Expenditure - Other U... \n",
       "45  Table 6.11: Identifiable Expenditure: Scotland... \n",
       "46  Table 6.12: Non-Identifiable Expenditure: Scot... \n",
       "47  Table 6.13: Non-Identifiable Expenditure: Scot... \n",
       "48  Table 6.14: Non-Identifiable Expenditure: UK 2... \n",
       "49  Table 6.15: Non-Identifiable Expenditure: Scot... \n",
       "50  Box 6.4: Current Balance on Public Services Co... \n",
       "51  Table 6.16: Accounting Adjustment: UK 2005-06 ... \n",
       "52  Table 6.17: Accounting Adjustment: Scotland 20... "
      ]
     },
     "execution_count": 13,
     "metadata": {},
     "output_type": "execute_result"
    }
   ],
   "source": [
    "# debug\n",
    "\n",
    "index_table = table_names[0]\n",
    "toc = wb[index_table]\n",
    "toc"
   ]
  },
  {
   "cell_type": "code",
   "execution_count": 14,
   "metadata": {
    "scrolled": false
   },
   "outputs": [
    {
     "data": {
      "text/plain": [
       "'Table E.1: Public Sector Total Managed Expenditure: Scotland 2005-06 to 2009-10'"
      ]
     },
     "execution_count": 14,
     "metadata": {},
     "output_type": "execute_result"
    }
   ],
   "source": [
    "toc.iloc[3].values[0]"
   ]
  },
  {
   "cell_type": "code",
   "execution_count": 15,
   "metadata": {
    "scrolled": true
   },
   "outputs": [
    {
     "name": "stdout",
     "output_type": "stream",
     "text": [
      "0 => 2009-10\n",
      "1 => List of Tables \n",
      "2 => Executive Summary\n",
      "3 => [' Public Sector Total Managed Expenditure', ' Scotland 2005-06 to 2009-10']\n",
      "4 => [' Total Current Revenue', ' Scotland 2005-06 to 2009-10']\n",
      "5 => [' Current Budget Balance', ' Scotland 2005-06 to 2009-10']\n",
      "6 => [' Net Fiscal Balance', ' Scotland 2005-06 to 2009-10']\n",
      "7 => Scotland's Public Sector Accounts\n",
      "8 => [' Scotland', ' Estimated Share of UK Government’s Financial Stability Expenditure']\n",
      "9 => [' Current and Capital Budgets', ' Scotland 2005-06 to 2009-10']\n",
      "10 => [' Current and Capital Budgets (Excluding North Sea) % GDP', ' Scotland']\n",
      "11 => [' Current and Capital Budgets (Per Capita Share North Sea) % GDP', '  Scotland']\n",
      "12 => [' Current and Capital Budgets (Geographical Share North Sea) % GDP', ' Scotland']\n",
      "13 => [' Current and Capital Budgets', ' UK 2005-06 to 2009-10 (£ million and % of GDP)']\n",
      "14 => [' Scottish GDP Including and Excluding North Sea GDP', ' 2005-06 to 2009-10; UK GDP', ' 2005-06 to 2009-10']\n",
      "15 => [' Summary of Total Public Sector Expenditure', ' Scotland 2005-06 to 2009-10']\n",
      "16 => [' Total Managed Expenditure for Scotland and the UK', ' 2005-06 to 2009-10']\n",
      "17 => [' Summary of Current Revenue by Economic Category', ' Scotland 2005-06 to 2009-10']\n",
      "18 => Public Sector Revenue\n",
      "19 => [' Current Revenue', ' Scotland 2009-10']\n",
      "20 => [' Capital Gains Tax', ' 2005-06 to 2009-10 ']\n",
      "21 => [' Stamp Duty', ' 2005-06 to 2009-10 ']\n",
      "22 => [' Current Revenue', ' Scotland and UK 2005-06 to 2009-10']\n",
      "23 => [' Non-North Sea Current Revenue', ' Scotland/UK Share 2005-06 to 2009-10']\n",
      "24 => North Sea Revenue\n",
      "25 => [' Total North Sea Revenue', ' UK 1980-81 to 2009-10 ']\n",
      "26 => [' Composition of North Sea Revenue', ' UK 2004-05 to 2009-10']\n",
      "27 => [' Per Capita Share of North Sea Revenue', ' Scotland 2005-06 to 2009-10']\n",
      "28 => [' Geographical Share of North Sea Revenue', ' Scotland 2005-06  to 2009-10']\n",
      "29 => [' Current Revenue (Per Capita Share of North Sea Revenue)', ' Scotland 2009-10']\n",
      "30 => [' Current Revenue (Geographical Share of North Sea Revenue)', ' Scotland 2009-10']\n",
      "31 => Public Sector Expenditure\n",
      "32 => [' Total Expenditure', ' Scotland 2009-10']\n",
      "33 => [' Total Current and Capital Expenditure Scotland and UK 2005-06 to 2009-10']\n",
      "34 => [' Current and Capital Expenditure (% of Total)', ' Scotland 2005-06 to 2009-10']\n",
      "35 => [' Total Expenditure', ' Scotland 2005-06 to 2009-10']\n",
      "36 => [' Total Expenditure', ' UK 2005-06 to 2009-10']\n",
      "37 => [' Social Protection Expenditure Scotland and UK 2005-06 to 2009-10']\n",
      "38 => [' Total Expenditure per capita', ' Scotland and UK 2009-10']\n",
      "39 => [' Public Sector Unitary Charge Expenditure in Scotland 2005-06 to 2009-10-10 ']\n",
      "40 => [' Expenditure on the 2012 Olympic Games', ' 2005-06 to 2009-10']\n",
      "41 => [' Total Expenditure, Identifiable and Non-identifiable', ' Scotland 2005-06 to 2009-10']\n",
      "42 => [' Total Identifiable Expenditure', ' Scotland 2005-06 to 2009-10']\n",
      "43 => [' Identifiable Expenditure - Scottish Government and LA', ' Scotland 2005-06 to 2009-10']\n",
      "44 => [' Identifiable Expenditure - Other UK Government', ' Scotland 2005-06 to 2009-10']\n",
      "45 => [' Identifiable Expenditure', ' Scotland and UK 2009-10']\n",
      "46 => [' Non-Identifiable Expenditure', ' Scotland and UK 2005-06 to 2009-10']\n",
      "47 => [' Non-Identifiable Expenditure', ' Scotland 2005-06 to 2009-10']\n",
      "48 => [' Non-Identifiable Expenditure', ' UK 2005-06 to 2009-10']\n",
      "49 => [' Non-Identifiable Expenditure', ' Scotland and UK 2009-10']\n",
      "50 => [' Current Balance on Public Services Consumed', ' Scotland 2009-10']\n",
      "51 => [' Accounting Adjustment', ' UK 2005-06 to 2009-10']\n",
      "52 => [' Accounting Adjustment', ' Scotland 2005-06 to 2009-10']\n"
     ]
    }
   ],
   "source": [
    "reports = []\n",
    "is_report = False\n",
    "\n",
    "for i, r in toc.iterrows():\n",
    "    title = r.values[0]\n",
    "    if re.search(':', title):\n",
    "        title = title.split(':')[1:]\n",
    "    \n",
    "    print(f'{i} => {title}')"
   ]
  },
  {
   "cell_type": "code",
   "execution_count": 16,
   "metadata": {
    "scrolled": true
   },
   "outputs": [
    {
     "data": {
      "text/html": [
       "<div>\n",
       "<style scoped>\n",
       "    .dataframe tbody tr th:only-of-type {\n",
       "        vertical-align: middle;\n",
       "    }\n",
       "\n",
       "    .dataframe tbody tr th {\n",
       "        vertical-align: top;\n",
       "    }\n",
       "\n",
       "    .dataframe thead th {\n",
       "        text-align: right;\n",
       "    }\n",
       "</style>\n",
       "<table border=\"1\" class=\"dataframe\">\n",
       "  <thead>\n",
       "    <tr style=\"text-align: right;\">\n",
       "      <th></th>\n",
       "      <th>Government Expenditure and Revenues Scotland (GERS)</th>\n",
       "    </tr>\n",
       "  </thead>\n",
       "  <tbody>\n",
       "    <tr>\n",
       "      <th>0</th>\n",
       "      <td>2009-10</td>\n",
       "    </tr>\n",
       "    <tr>\n",
       "      <th>1</th>\n",
       "      <td>List of Tables</td>\n",
       "    </tr>\n",
       "    <tr>\n",
       "      <th>2</th>\n",
       "      <td>Executive Summary</td>\n",
       "    </tr>\n",
       "    <tr>\n",
       "      <th>3</th>\n",
       "      <td>Table E.1: Public Sector Total Managed Expendi...</td>\n",
       "    </tr>\n",
       "    <tr>\n",
       "      <th>4</th>\n",
       "      <td>Table E.2: Total Current Revenue: Scotland 200...</td>\n",
       "    </tr>\n",
       "    <tr>\n",
       "      <th>5</th>\n",
       "      <td>Table E.3: Current Budget Balance: Scotland 20...</td>\n",
       "    </tr>\n",
       "    <tr>\n",
       "      <th>6</th>\n",
       "      <td>Table E.4: Net Fiscal Balance: Scotland 2005-0...</td>\n",
       "    </tr>\n",
       "    <tr>\n",
       "      <th>7</th>\n",
       "      <td>Scotland's Public Sector Accounts</td>\n",
       "    </tr>\n",
       "    <tr>\n",
       "      <th>8</th>\n",
       "      <td>Table 3.1: Scotland: Estimated Share of UK Gov...</td>\n",
       "    </tr>\n",
       "    <tr>\n",
       "      <th>9</th>\n",
       "      <td>Table 3.2: Current and Capital Budgets: Scotla...</td>\n",
       "    </tr>\n",
       "    <tr>\n",
       "      <th>10</th>\n",
       "      <td>Table 3.3a: Current and Capital Budgets (Exclu...</td>\n",
       "    </tr>\n",
       "    <tr>\n",
       "      <th>11</th>\n",
       "      <td>Table 3.3b: Current and Capital Budgets (Per C...</td>\n",
       "    </tr>\n",
       "    <tr>\n",
       "      <th>12</th>\n",
       "      <td>Table 3.3c: Current and Capital Budgets (Geogr...</td>\n",
       "    </tr>\n",
       "    <tr>\n",
       "      <th>13</th>\n",
       "      <td>Box 3.3: Current and Capital Budgets: UK 2005-...</td>\n",
       "    </tr>\n",
       "    <tr>\n",
       "      <th>14</th>\n",
       "      <td>Box 3.4: Scottish GDP Including and Excluding ...</td>\n",
       "    </tr>\n",
       "    <tr>\n",
       "      <th>15</th>\n",
       "      <td>Table 3.4: Summary of Total Public Sector Expe...</td>\n",
       "    </tr>\n",
       "    <tr>\n",
       "      <th>16</th>\n",
       "      <td>Box 3.5: Total Managed Expenditure for Scotlan...</td>\n",
       "    </tr>\n",
       "    <tr>\n",
       "      <th>17</th>\n",
       "      <td>Table 3.5: Summary of Current Revenue by Econo...</td>\n",
       "    </tr>\n",
       "    <tr>\n",
       "      <th>18</th>\n",
       "      <td>Public Sector Revenue</td>\n",
       "    </tr>\n",
       "    <tr>\n",
       "      <th>19</th>\n",
       "      <td>Table 4.1: Current Revenue: Scotland 2009-10</td>\n",
       "    </tr>\n",
       "    <tr>\n",
       "      <th>20</th>\n",
       "      <td>Box 4.1: Capital Gains Tax: 2005-06 to 2009-10</td>\n",
       "    </tr>\n",
       "    <tr>\n",
       "      <th>21</th>\n",
       "      <td>Box 4.2: Stamp Duty: 2005-06 to 2009-10</td>\n",
       "    </tr>\n",
       "    <tr>\n",
       "      <th>22</th>\n",
       "      <td>Table 4.2: Current Revenue: Scotland and UK 20...</td>\n",
       "    </tr>\n",
       "    <tr>\n",
       "      <th>23</th>\n",
       "      <td>Table 4.3: Non-North Sea Current Revenue: Scot...</td>\n",
       "    </tr>\n",
       "    <tr>\n",
       "      <th>24</th>\n",
       "      <td>North Sea Revenue</td>\n",
       "    </tr>\n",
       "    <tr>\n",
       "      <th>25</th>\n",
       "      <td>Table 5.1: Total North Sea Revenue: UK 1980-81...</td>\n",
       "    </tr>\n",
       "    <tr>\n",
       "      <th>26</th>\n",
       "      <td>Table 5.2: Composition of North Sea Revenue: U...</td>\n",
       "    </tr>\n",
       "    <tr>\n",
       "      <th>27</th>\n",
       "      <td>Table 5.3: Per Capita Share of North Sea Reven...</td>\n",
       "    </tr>\n",
       "    <tr>\n",
       "      <th>28</th>\n",
       "      <td>Table 5.4: Geographical Share of North Sea Rev...</td>\n",
       "    </tr>\n",
       "    <tr>\n",
       "      <th>29</th>\n",
       "      <td>Table 5.5: Current Revenue (Per Capita Share o...</td>\n",
       "    </tr>\n",
       "    <tr>\n",
       "      <th>30</th>\n",
       "      <td>Table 5.6: Current Revenue (Geographical Share...</td>\n",
       "    </tr>\n",
       "    <tr>\n",
       "      <th>31</th>\n",
       "      <td>Public Sector Expenditure</td>\n",
       "    </tr>\n",
       "    <tr>\n",
       "      <th>32</th>\n",
       "      <td>Table 6.1: Total Expenditure: Scotland 2009-10</td>\n",
       "    </tr>\n",
       "    <tr>\n",
       "      <th>33</th>\n",
       "      <td>Table 6.2: Total Current and Capital Expenditu...</td>\n",
       "    </tr>\n",
       "    <tr>\n",
       "      <th>34</th>\n",
       "      <td>Table 6.3: Current and Capital Expenditure (% ...</td>\n",
       "    </tr>\n",
       "    <tr>\n",
       "      <th>35</th>\n",
       "      <td>Table 6.4: Total Expenditure: Scotland 2005-06...</td>\n",
       "    </tr>\n",
       "    <tr>\n",
       "      <th>36</th>\n",
       "      <td>Table 6.5: Total Expenditure: UK 2005-06 to 20...</td>\n",
       "    </tr>\n",
       "    <tr>\n",
       "      <th>37</th>\n",
       "      <td>Box 6.1: Social Protection Expenditure Scotlan...</td>\n",
       "    </tr>\n",
       "    <tr>\n",
       "      <th>38</th>\n",
       "      <td>Table 6.6: Total Expenditure per capita: Scotl...</td>\n",
       "    </tr>\n",
       "    <tr>\n",
       "      <th>39</th>\n",
       "      <td>Box 6.2: Public Sector Unitary Charge Expendit...</td>\n",
       "    </tr>\n",
       "    <tr>\n",
       "      <th>40</th>\n",
       "      <td>Box 6.3: Expenditure on the 2012 Olympic Games...</td>\n",
       "    </tr>\n",
       "    <tr>\n",
       "      <th>41</th>\n",
       "      <td>Table 6.7: Total Expenditure, Identifiable and...</td>\n",
       "    </tr>\n",
       "    <tr>\n",
       "      <th>42</th>\n",
       "      <td>Table 6.8: Total Identifiable Expenditure: Sco...</td>\n",
       "    </tr>\n",
       "    <tr>\n",
       "      <th>43</th>\n",
       "      <td>Table 6.9: Identifiable Expenditure - Scottish...</td>\n",
       "    </tr>\n",
       "    <tr>\n",
       "      <th>44</th>\n",
       "      <td>Table 6.10: Identifiable Expenditure - Other U...</td>\n",
       "    </tr>\n",
       "    <tr>\n",
       "      <th>45</th>\n",
       "      <td>Table 6.11: Identifiable Expenditure: Scotland...</td>\n",
       "    </tr>\n",
       "    <tr>\n",
       "      <th>46</th>\n",
       "      <td>Table 6.12: Non-Identifiable Expenditure: Scot...</td>\n",
       "    </tr>\n",
       "    <tr>\n",
       "      <th>47</th>\n",
       "      <td>Table 6.13: Non-Identifiable Expenditure: Scot...</td>\n",
       "    </tr>\n",
       "    <tr>\n",
       "      <th>48</th>\n",
       "      <td>Table 6.14: Non-Identifiable Expenditure: UK 2...</td>\n",
       "    </tr>\n",
       "    <tr>\n",
       "      <th>49</th>\n",
       "      <td>Table 6.15: Non-Identifiable Expenditure: Scot...</td>\n",
       "    </tr>\n",
       "    <tr>\n",
       "      <th>50</th>\n",
       "      <td>Box 6.4: Current Balance on Public Services Co...</td>\n",
       "    </tr>\n",
       "    <tr>\n",
       "      <th>51</th>\n",
       "      <td>Table 6.16: Accounting Adjustment: UK 2005-06 ...</td>\n",
       "    </tr>\n",
       "    <tr>\n",
       "      <th>52</th>\n",
       "      <td>Table 6.17: Accounting Adjustment: Scotland 20...</td>\n",
       "    </tr>\n",
       "  </tbody>\n",
       "</table>\n",
       "</div>"
      ],
      "text/plain": [
       "   Government Expenditure and Revenues Scotland (GERS)\n",
       "0                                             2009-10 \n",
       "1                                     List of Tables  \n",
       "2                                   Executive Summary \n",
       "3   Table E.1: Public Sector Total Managed Expendi... \n",
       "4   Table E.2: Total Current Revenue: Scotland 200... \n",
       "5   Table E.3: Current Budget Balance: Scotland 20... \n",
       "6   Table E.4: Net Fiscal Balance: Scotland 2005-0... \n",
       "7                   Scotland's Public Sector Accounts \n",
       "8   Table 3.1: Scotland: Estimated Share of UK Gov... \n",
       "9   Table 3.2: Current and Capital Budgets: Scotla... \n",
       "10  Table 3.3a: Current and Capital Budgets (Exclu... \n",
       "11  Table 3.3b: Current and Capital Budgets (Per C... \n",
       "12  Table 3.3c: Current and Capital Budgets (Geogr... \n",
       "13  Box 3.3: Current and Capital Budgets: UK 2005-... \n",
       "14  Box 3.4: Scottish GDP Including and Excluding ... \n",
       "15  Table 3.4: Summary of Total Public Sector Expe... \n",
       "16  Box 3.5: Total Managed Expenditure for Scotlan... \n",
       "17  Table 3.5: Summary of Current Revenue by Econo... \n",
       "18                              Public Sector Revenue \n",
       "19       Table 4.1: Current Revenue: Scotland 2009-10 \n",
       "20    Box 4.1: Capital Gains Tax: 2005-06 to 2009-10  \n",
       "21           Box 4.2: Stamp Duty: 2005-06 to 2009-10  \n",
       "22  Table 4.2: Current Revenue: Scotland and UK 20... \n",
       "23  Table 4.3: Non-North Sea Current Revenue: Scot... \n",
       "24                                  North Sea Revenue \n",
       "25  Table 5.1: Total North Sea Revenue: UK 1980-81... \n",
       "26  Table 5.2: Composition of North Sea Revenue: U... \n",
       "27  Table 5.3: Per Capita Share of North Sea Reven... \n",
       "28  Table 5.4: Geographical Share of North Sea Rev... \n",
       "29  Table 5.5: Current Revenue (Per Capita Share o... \n",
       "30  Table 5.6: Current Revenue (Geographical Share... \n",
       "31                          Public Sector Expenditure \n",
       "32     Table 6.1: Total Expenditure: Scotland 2009-10 \n",
       "33  Table 6.2: Total Current and Capital Expenditu... \n",
       "34  Table 6.3: Current and Capital Expenditure (% ... \n",
       "35  Table 6.4: Total Expenditure: Scotland 2005-06... \n",
       "36  Table 6.5: Total Expenditure: UK 2005-06 to 20... \n",
       "37  Box 6.1: Social Protection Expenditure Scotlan... \n",
       "38  Table 6.6: Total Expenditure per capita: Scotl... \n",
       "39  Box 6.2: Public Sector Unitary Charge Expendit... \n",
       "40  Box 6.3: Expenditure on the 2012 Olympic Games... \n",
       "41  Table 6.7: Total Expenditure, Identifiable and... \n",
       "42  Table 6.8: Total Identifiable Expenditure: Sco... \n",
       "43  Table 6.9: Identifiable Expenditure - Scottish... \n",
       "44  Table 6.10: Identifiable Expenditure - Other U... \n",
       "45  Table 6.11: Identifiable Expenditure: Scotland... \n",
       "46  Table 6.12: Non-Identifiable Expenditure: Scot... \n",
       "47  Table 6.13: Non-Identifiable Expenditure: Scot... \n",
       "48  Table 6.14: Non-Identifiable Expenditure: UK 2... \n",
       "49  Table 6.15: Non-Identifiable Expenditure: Scot... \n",
       "50  Box 6.4: Current Balance on Public Services Co... \n",
       "51  Table 6.16: Accounting Adjustment: UK 2005-06 ... \n",
       "52  Table 6.17: Accounting Adjustment: Scotland 20... "
      ]
     },
     "execution_count": 16,
     "metadata": {},
     "output_type": "execute_result"
    }
   ],
   "source": [
    "wb[list(wb)[0]]"
   ]
  },
  {
   "cell_type": "code",
   "execution_count": 17,
   "metadata": {
    "scrolled": true
   },
   "outputs": [
    {
     "data": {
      "text/plain": [
       "{'Executive Summary': ['Table E.1: Public Sector Total Managed Expenditure: Scotland 2005-06 to 2009-10',\n",
       "  'Table E.2: Total Current Revenue: Scotland 2005-06 to 2009-10',\n",
       "  'Table E.3: Current Budget Balance: Scotland 2005-06 to 2009-10',\n",
       "  'Table E.4: Net Fiscal Balance: Scotland 2005-06 to 2009-10'],\n",
       " \"Scotland's Public Sector Accounts\": ['Table 3.1: Scotland: Estimated Share of UK Government’s Financial Stability Expenditure',\n",
       "  'Table 3.2: Current and Capital Budgets: Scotland 2005-06 to 2009-10',\n",
       "  'Table 3.3a: Current and Capital Budgets (Excluding North Sea) % GDP: Scotland',\n",
       "  'Table 3.3b: Current and Capital Budgets (Per Capita Share North Sea) % GDP:  Scotland',\n",
       "  'Table 3.3c: Current and Capital Budgets (Geographical Share North Sea) % GDP: Scotland',\n",
       "  'Box 3.3: Current and Capital Budgets: UK 2005-06 to 2009-10 (£ million and % of GDP)',\n",
       "  'Box 3.4: Scottish GDP Including and Excluding North Sea GDP: 2005-06 to 2009-10; UK GDP: 2005-06 to 2009-10',\n",
       "  'Table 3.4: Summary of Total Public Sector Expenditure: Scotland 2005-06 to 2009-10',\n",
       "  'Box 3.5: Total Managed Expenditure for Scotland and the UK: 2005-06 to 2009-10',\n",
       "  'Table 3.5: Summary of Current Revenue by Economic Category: Scotland 2005-06 to 2009-10'],\n",
       " 'Public Sector Revenue': ['Table 4.1: Current Revenue: Scotland 2009-10',\n",
       "  'Box 4.1: Capital Gains Tax: 2005-06 to 2009-10 ',\n",
       "  'Box 4.2: Stamp Duty: 2005-06 to 2009-10 ',\n",
       "  'Table 4.2: Current Revenue: Scotland and UK 2005-06 to 2009-10',\n",
       "  'Table 4.3: Non-North Sea Current Revenue: Scotland/UK Share 2005-06 to 2009-10'],\n",
       " 'North Sea Revenue': ['Table 5.1: Total North Sea Revenue: UK 1980-81 to 2009-10 ',\n",
       "  'Table 5.2: Composition of North Sea Revenue: UK 2004-05 to 2009-10',\n",
       "  'Table 5.3: Per Capita Share of North Sea Revenue: Scotland 2005-06 to 2009-10',\n",
       "  'Table 5.4: Geographical Share of North Sea Revenue: Scotland 2005-06  to 2009-10',\n",
       "  'Table 5.5: Current Revenue (Per Capita Share of North Sea Revenue): Scotland 2009-10',\n",
       "  'Table 5.6: Current Revenue (Geographical Share of North Sea Revenue): Scotland 2009-10']}"
      ]
     },
     "execution_count": 17,
     "metadata": {},
     "output_type": "execute_result"
    }
   ],
   "source": [
    "categories = get_reports(toc)\n",
    "categories"
   ]
  },
  {
   "cell_type": "code",
   "execution_count": 18,
   "metadata": {},
   "outputs": [
    {
     "data": {
      "application/vnd.jupyter.widget-view+json": {
       "model_id": "d0125d19955440018a8e39fa5ce61764",
       "version_major": 2,
       "version_minor": 0
      },
      "text/plain": [
       "Tab(children=(Dropdown(description='Executive Summary:', layout=Layout(width='max-content'), options=('Table E…"
      ]
     },
     "metadata": {},
     "output_type": "display_data"
    }
   ],
   "source": [
    "category_selector = widgets.Tab()\n",
    "\n",
    "children = []\n",
    "i = 0\n",
    "\n",
    "for c in categories:\n",
    "    children.append(get_category(c, categories[c], False))\n",
    "    category_selector.set_title(i, c)\n",
    "    i = i + 1\n",
    "\n",
    "category_selector.children = children\n",
    "\n",
    "display(category_selector)"
   ]
  },
  {
   "cell_type": "code",
   "execution_count": 19,
   "metadata": {},
   "outputs": [
    {
     "data": {
      "text/plain": [
       "0"
      ]
     },
     "execution_count": 19,
     "metadata": {},
     "output_type": "execute_result"
    }
   ],
   "source": [
    "category_selector.selected_index"
   ]
  },
  {
   "cell_type": "code",
   "execution_count": 20,
   "metadata": {},
   "outputs": [
    {
     "data": {
      "text/plain": [
       "'Table E.1'"
      ]
     },
     "execution_count": 20,
     "metadata": {},
     "output_type": "execute_result"
    }
   ],
   "source": [
    "SHEET_NAME = category_selector.children[category_selector.selected_index].value.split(':')[0]\n",
    "SHEET_NAME"
   ]
  },
  {
   "cell_type": "code",
   "execution_count": 21,
   "metadata": {},
   "outputs": [
    {
     "data": {
      "text/html": [
       "<div>\n",
       "<style scoped>\n",
       "    .dataframe tbody tr th:only-of-type {\n",
       "        vertical-align: middle;\n",
       "    }\n",
       "\n",
       "    .dataframe tbody tr th {\n",
       "        vertical-align: top;\n",
       "    }\n",
       "\n",
       "    .dataframe thead th {\n",
       "        text-align: right;\n",
       "    }\n",
       "</style>\n",
       "<table border=\"1\" class=\"dataframe\">\n",
       "  <thead>\n",
       "    <tr style=\"text-align: right;\">\n",
       "      <th></th>\n",
       "      <th>Table E.1: Public Sector Total Managed Expenditure: Scotland 2005-06 to 2009-10</th>\n",
       "      <th>Unnamed: 1</th>\n",
       "      <th>Unnamed: 2</th>\n",
       "      <th>Unnamed: 3</th>\n",
       "      <th>Unnamed: 4</th>\n",
       "      <th>Unnamed: 5</th>\n",
       "    </tr>\n",
       "  </thead>\n",
       "  <tbody>\n",
       "    <tr>\n",
       "      <th>0</th>\n",
       "      <td>NaN</td>\n",
       "      <td>2005-06</td>\n",
       "      <td>2006-07</td>\n",
       "      <td>2007-08</td>\n",
       "      <td>2008-09</td>\n",
       "      <td>2009-10</td>\n",
       "    </tr>\n",
       "    <tr>\n",
       "      <th>1</th>\n",
       "      <td>Public Sector Expenditure for Scotland (£ mill...</td>\n",
       "      <td>49962</td>\n",
       "      <td>52692</td>\n",
       "      <td>55803</td>\n",
       "      <td>58913</td>\n",
       "      <td>62086</td>\n",
       "    </tr>\n",
       "    <tr>\n",
       "      <th>2</th>\n",
       "      <td>Public Sector Expenditure for Scotland (% of U...</td>\n",
       "      <td>0.095</td>\n",
       "      <td>0.096</td>\n",
       "      <td>0.096</td>\n",
       "      <td>0.094</td>\n",
       "      <td>0.093</td>\n",
       "    </tr>\n",
       "  </tbody>\n",
       "</table>\n",
       "</div>"
      ],
      "text/plain": [
       "  Table E.1: Public Sector Total Managed Expenditure: Scotland 2005-06 to 2009-10  \\\n",
       "0                                                NaN                                \n",
       "1  Public Sector Expenditure for Scotland (£ mill...                                \n",
       "2  Public Sector Expenditure for Scotland (% of U...                                \n",
       "\n",
       "  Unnamed: 1 Unnamed: 2 Unnamed: 3 Unnamed: 4 Unnamed: 5  \n",
       "0    2005-06    2006-07    2007-08    2008-09    2009-10  \n",
       "1      49962      52692      55803      58913      62086  \n",
       "2      0.095      0.096      0.096      0.094      0.093  "
      ]
     },
     "execution_count": 21,
     "metadata": {},
     "output_type": "execute_result"
    }
   ],
   "source": [
    "wb[SHEET_NAME]"
   ]
  },
  {
   "cell_type": "code",
   "execution_count": 22,
   "metadata": {},
   "outputs": [
    {
     "data": {
      "text/html": [
       "<div>\n",
       "<style scoped>\n",
       "    .dataframe tbody tr th:only-of-type {\n",
       "        vertical-align: middle;\n",
       "    }\n",
       "\n",
       "    .dataframe tbody tr th {\n",
       "        vertical-align: top;\n",
       "    }\n",
       "\n",
       "    .dataframe thead th {\n",
       "        text-align: right;\n",
       "    }\n",
       "</style>\n",
       "<table border=\"1\" class=\"dataframe\">\n",
       "  <thead>\n",
       "    <tr style=\"text-align: right;\">\n",
       "      <th></th>\n",
       "      <th>Table E.1: Public Sector Total Managed Expenditure: Scotland 2005-06 to 2009-10</th>\n",
       "      <th>Unnamed: 1</th>\n",
       "      <th>Unnamed: 2</th>\n",
       "      <th>Unnamed: 3</th>\n",
       "      <th>Unnamed: 4</th>\n",
       "      <th>Unnamed: 5</th>\n",
       "    </tr>\n",
       "  </thead>\n",
       "  <tbody>\n",
       "    <tr>\n",
       "      <th>0</th>\n",
       "      <td>NaN</td>\n",
       "      <td>2005-06</td>\n",
       "      <td>2006-07</td>\n",
       "      <td>2007-08</td>\n",
       "      <td>2008-09</td>\n",
       "      <td>2009-10</td>\n",
       "    </tr>\n",
       "    <tr>\n",
       "      <th>1</th>\n",
       "      <td>Public Sector Expenditure for Scotland (£ mill...</td>\n",
       "      <td>49962</td>\n",
       "      <td>52692</td>\n",
       "      <td>55803</td>\n",
       "      <td>58913</td>\n",
       "      <td>62086</td>\n",
       "    </tr>\n",
       "    <tr>\n",
       "      <th>2</th>\n",
       "      <td>Public Sector Expenditure for Scotland (% of U...</td>\n",
       "      <td>0.095</td>\n",
       "      <td>0.096</td>\n",
       "      <td>0.096</td>\n",
       "      <td>0.094</td>\n",
       "      <td>0.093</td>\n",
       "    </tr>\n",
       "  </tbody>\n",
       "</table>\n",
       "</div>"
      ],
      "text/plain": [
       "  Table E.1: Public Sector Total Managed Expenditure: Scotland 2005-06 to 2009-10  \\\n",
       "0                                                NaN                                \n",
       "1  Public Sector Expenditure for Scotland (£ mill...                                \n",
       "2  Public Sector Expenditure for Scotland (% of U...                                \n",
       "\n",
       "  Unnamed: 1 Unnamed: 2 Unnamed: 3 Unnamed: 4 Unnamed: 5  \n",
       "0    2005-06    2006-07    2007-08    2008-09    2009-10  \n",
       "1      49962      52692      55803      58913      62086  \n",
       "2      0.095      0.096      0.096      0.094      0.093  "
      ]
     },
     "execution_count": 22,
     "metadata": {},
     "output_type": "execute_result"
    }
   ],
   "source": [
    "# debug\n",
    "\n",
    "table1 = wb[SHEET_NAME]\n",
    "table1"
   ]
  },
  {
   "cell_type": "code",
   "execution_count": 23,
   "metadata": {},
   "outputs": [
    {
     "data": {
      "text/plain": [
       "'Executive Summary'"
      ]
     },
     "execution_count": 23,
     "metadata": {},
     "output_type": "execute_result"
    }
   ],
   "source": [
    "summary = list(categories)[0]\n",
    "summary"
   ]
  },
  {
   "cell_type": "code",
   "execution_count": 24,
   "metadata": {},
   "outputs": [
    {
     "data": {
      "text/plain": [
       "['Table E.1: Public Sector Total Managed Expenditure: Scotland 2005-06 to 2009-10',\n",
       " 'Table E.2: Total Current Revenue: Scotland 2005-06 to 2009-10',\n",
       " 'Table E.3: Current Budget Balance: Scotland 2005-06 to 2009-10',\n",
       " 'Table E.4: Net Fiscal Balance: Scotland 2005-06 to 2009-10']"
      ]
     },
     "execution_count": 24,
     "metadata": {},
     "output_type": "execute_result"
    }
   ],
   "source": [
    "categories[summary]"
   ]
  },
  {
   "cell_type": "code",
   "execution_count": 50,
   "metadata": {},
   "outputs": [
    {
     "data": {
      "application/vnd.jupyter.widget-view+json": {
       "model_id": "032ddeb9af0043f8b5bb35271eaf6861",
       "version_major": 2,
       "version_minor": 0
      },
      "text/plain": [
       "Output(outputs=({'output_type': 'display_data', 'data': {'text/plain': \"'f00'\"}, 'metadata': {}},))"
      ]
     },
     "metadata": {},
     "output_type": "display_data"
    }
   ],
   "source": [
    "test_o = widgets.Output()\n",
    "test_o.append_display_data('f00')\n",
    "\n",
    "display(test_o)"
   ]
  },
  {
   "cell_type": "code",
   "execution_count": 26,
   "metadata": {},
   "outputs": [
    {
     "data": {
      "application/vnd.jupyter.widget-view+json": {
       "model_id": "7a99e21d8544469ab334d65e77b0572f",
       "version_major": 2,
       "version_minor": 0
      },
      "text/plain": [
       "Dropdown(description='Executive Summary:', layout=Layout(width='max-content'), options=('Table E.1: Public Sec…"
      ]
     },
     "metadata": {},
     "output_type": "display_data"
    },
    {
     "data": {
      "application/vnd.jupyter.widget-view+json": {
       "model_id": "5a39bbeb81c74a65a32b3c13c9361543",
       "version_major": 2,
       "version_minor": 0
      },
      "text/plain": [
       "Output()"
      ]
     },
     "metadata": {},
     "output_type": "display_data"
    },
    {
     "name": "stdout",
     "output_type": "stream",
     "text": [
      "printing output: Output()\n",
      "Selecting: Table E.1\n",
      "printing output: Output(outputs=({'output_type': 'display_data', 'data': {'text/plain': '  Table E.1: Public Sector Total Managed Expenditure: Scotland 2005-06 to 2009-10  \\\\\\n0                                                NaN                                \\n1  Public Sector Expenditure for Scotland (£ mill...                                \\n2  Public Sector Expenditure for Scotland (% of U...                                \\n\\n  Unnamed: 1 Unnamed: 2 Unnamed: 3 Unnamed: 4 Unnamed: 5  \\n0    2005-06    2006-07    2007-08    2008-09    2009-10  \\n1      49962      52692      55803      58913      62086  \\n2      0.095      0.096      0.096      0.094      0.093  ', 'text/html': '<div>\\n<style scoped>\\n    .dataframe tbody tr th:only-of-type {\\n        vertical-align: middle;\\n    }\\n\\n    .dataframe tbody tr th {\\n        vertical-align: top;\\n    }\\n\\n    .dataframe thead th {\\n        text-align: right;\\n    }\\n</style>\\n<table border=\"1\" class=\"dataframe\">\\n  <thead>\\n    <tr style=\"text-align: right;\">\\n      <th></th>\\n      <th>Table E.1: Public Sector Total Managed Expenditure: Scotland 2005-06 to 2009-10</th>\\n      <th>Unnamed: 1</th>\\n      <th>Unnamed: 2</th>\\n      <th>Unnamed: 3</th>\\n      <th>Unnamed: 4</th>\\n      <th>Unnamed: 5</th>\\n    </tr>\\n  </thead>\\n  <tbody>\\n    <tr>\\n      <th>0</th>\\n      <td>NaN</td>\\n      <td>2005-06</td>\\n      <td>2006-07</td>\\n      <td>2007-08</td>\\n      <td>2008-09</td>\\n      <td>2009-10</td>\\n    </tr>\\n    <tr>\\n      <th>1</th>\\n      <td>Public Sector Expenditure for Scotland (£ mill...</td>\\n      <td>49962</td>\\n      <td>52692</td>\\n      <td>55803</td>\\n      <td>58913</td>\\n      <td>62086</td>\\n    </tr>\\n    <tr>\\n      <th>2</th>\\n      <td>Public Sector Expenditure for Scotland (% of U...</td>\\n      <td>0.095</td>\\n      <td>0.096</td>\\n      <td>0.096</td>\\n      <td>0.094</td>\\n      <td>0.093</td>\\n    </tr>\\n  </tbody>\\n</table>\\n</div>'}, 'metadata': {}},))\n",
      "Selecting: Table E.2\n",
      "printing output: Output(outputs=({'output_type': 'display_data', 'data': {'text/plain': '  Table E.2: Total Current Revenue: Scotland 2005-06 to 2009-10  \\\\\\n0                                                NaN              \\n1                                                NaN              \\n2                        Excluding North Sea revenue              \\n3     Including North Sea revenue (per capita share)              \\n4   Including North Sea revenue (geographical share)              \\n5                                                NaN              \\n6                        Excluding North Sea revenue              \\n7     Including North Sea revenue (per capita share)              \\n8   Including North Sea revenue (geographical share)              \\n\\n                Unnamed: 1 Unnamed: 2 Unnamed: 3 Unnamed: 4 Unnamed: 5  \\n0              (£ million)        NaN        NaN        NaN        NaN  \\n1                  2005-06    2006-07    2007-08    2008-09    2009-10  \\n2                    39839      42272      45031      43131      42201  \\n3                    40632      43026      45661      44219      42747  \\n4                    47856      49775      52147      54871      48132  \\n5  (% of Total UK Revenue)        NaN        NaN        NaN        NaN  \\n6                    0.083      0.083      0.083      0.083      0.083  \\n7                    0.084      0.083      0.083      0.083      0.083  \\n8                    0.098      0.096      0.095      0.103      0.094  ', 'text/html': '<div>\\n<style scoped>\\n    .dataframe tbody tr th:only-of-type {\\n        vertical-align: middle;\\n    }\\n\\n    .dataframe tbody tr th {\\n        vertical-align: top;\\n    }\\n\\n    .dataframe thead th {\\n        text-align: right;\\n    }\\n</style>\\n<table border=\"1\" class=\"dataframe\">\\n  <thead>\\n    <tr style=\"text-align: right;\">\\n      <th></th>\\n      <th>Table E.2: Total Current Revenue: Scotland 2005-06 to 2009-10</th>\\n      <th>Unnamed: 1</th>\\n      <th>Unnamed: 2</th>\\n      <th>Unnamed: 3</th>\\n      <th>Unnamed: 4</th>\\n      <th>Unnamed: 5</th>\\n    </tr>\\n  </thead>\\n  <tbody>\\n    <tr>\\n      <th>0</th>\\n      <td>NaN</td>\\n      <td>(£ million)</td>\\n      <td>NaN</td>\\n      <td>NaN</td>\\n      <td>NaN</td>\\n      <td>NaN</td>\\n    </tr>\\n    <tr>\\n      <th>1</th>\\n      <td>NaN</td>\\n      <td>2005-06</td>\\n      <td>2006-07</td>\\n      <td>2007-08</td>\\n      <td>2008-09</td>\\n      <td>2009-10</td>\\n    </tr>\\n    <tr>\\n      <th>2</th>\\n      <td>Excluding North Sea revenue</td>\\n      <td>39839</td>\\n      <td>42272</td>\\n      <td>45031</td>\\n      <td>43131</td>\\n      <td>42201</td>\\n    </tr>\\n    <tr>\\n      <th>3</th>\\n      <td>Including North Sea revenue (per capita share)</td>\\n      <td>40632</td>\\n      <td>43026</td>\\n      <td>45661</td>\\n      <td>44219</td>\\n      <td>42747</td>\\n    </tr>\\n    <tr>\\n      <th>4</th>\\n      <td>Including North Sea revenue (geographical share)</td>\\n      <td>47856</td>\\n      <td>49775</td>\\n      <td>52147</td>\\n      <td>54871</td>\\n      <td>48132</td>\\n    </tr>\\n    <tr>\\n      <th>5</th>\\n      <td>NaN</td>\\n      <td>(% of Total UK Revenue)</td>\\n      <td>NaN</td>\\n      <td>NaN</td>\\n      <td>NaN</td>\\n      <td>NaN</td>\\n    </tr>\\n    <tr>\\n      <th>6</th>\\n      <td>Excluding North Sea revenue</td>\\n      <td>0.083</td>\\n      <td>0.083</td>\\n      <td>0.083</td>\\n      <td>0.083</td>\\n      <td>0.083</td>\\n    </tr>\\n    <tr>\\n      <th>7</th>\\n      <td>Including North Sea revenue (per capita share)</td>\\n      <td>0.084</td>\\n      <td>0.083</td>\\n      <td>0.083</td>\\n      <td>0.083</td>\\n      <td>0.083</td>\\n    </tr>\\n    <tr>\\n      <th>8</th>\\n      <td>Including North Sea revenue (geographical share)</td>\\n      <td>0.098</td>\\n      <td>0.096</td>\\n      <td>0.095</td>\\n      <td>0.103</td>\\n      <td>0.094</td>\\n    </tr>\\n  </tbody>\\n</table>\\n</div>'}, 'metadata': {}},))\n",
      "Selecting: Table E.3\n",
      "printing output: Output(outputs=({'output_type': 'display_data', 'data': {'text/plain': '  Table E.3: Current Budget Balance: Scotland 2005-06 to 2009-10   Unnamed: 1  \\\\\\n0                                                NaN              (£ million)   \\n1                                                NaN                  2005-06   \\n2                        Excluding North Sea revenue                    -7277   \\n3     Including North Sea revenue (per capita share)                    -6484   \\n4   Including North Sea revenue (geographical share)                      740   \\n5                                                NaN               (% of GDP)   \\n6                        Excluding North Sea revenue                   -0.073   \\n7     Including North Sea revenue (per capita share)                   -0.063   \\n8   Including North Sea revenue (geographical share)                    0.006   \\n\\n  Unnamed: 2 Unnamed: 3 Unnamed: 4 Unnamed: 5  \\n0        NaN        NaN        NaN        NaN  \\n1    2006-07    2007-08    2008-09    2009-10  \\n2      -6799      -7112     -10952     -14897  \\n3      -6045      -6483      -9864     -14352  \\n4        704          3        787      -8966  \\n5        NaN        NaN        NaN        NaN  \\n6     -0.064     -0.062     -0.095     -0.134  \\n7     -0.055     -0.056     -0.084     -0.126  \\n8      0.006          0      0.006     -0.068  ', 'text/html': '<div>\\n<style scoped>\\n    .dataframe tbody tr th:only-of-type {\\n        vertical-align: middle;\\n    }\\n\\n    .dataframe tbody tr th {\\n        vertical-align: top;\\n    }\\n\\n    .dataframe thead th {\\n        text-align: right;\\n    }\\n</style>\\n<table border=\"1\" class=\"dataframe\">\\n  <thead>\\n    <tr style=\"text-align: right;\">\\n      <th></th>\\n      <th>Table E.3: Current Budget Balance: Scotland 2005-06 to 2009-10</th>\\n      <th>Unnamed: 1</th>\\n      <th>Unnamed: 2</th>\\n      <th>Unnamed: 3</th>\\n      <th>Unnamed: 4</th>\\n      <th>Unnamed: 5</th>\\n    </tr>\\n  </thead>\\n  <tbody>\\n    <tr>\\n      <th>0</th>\\n      <td>NaN</td>\\n      <td>(£ million)</td>\\n      <td>NaN</td>\\n      <td>NaN</td>\\n      <td>NaN</td>\\n      <td>NaN</td>\\n    </tr>\\n    <tr>\\n      <th>1</th>\\n      <td>NaN</td>\\n      <td>2005-06</td>\\n      <td>2006-07</td>\\n      <td>2007-08</td>\\n      <td>2008-09</td>\\n      <td>2009-10</td>\\n    </tr>\\n    <tr>\\n      <th>2</th>\\n      <td>Excluding North Sea revenue</td>\\n      <td>-7277</td>\\n      <td>-6799</td>\\n      <td>-7112</td>\\n      <td>-10952</td>\\n      <td>-14897</td>\\n    </tr>\\n    <tr>\\n      <th>3</th>\\n      <td>Including North Sea revenue (per capita share)</td>\\n      <td>-6484</td>\\n      <td>-6045</td>\\n      <td>-6483</td>\\n      <td>-9864</td>\\n      <td>-14352</td>\\n    </tr>\\n    <tr>\\n      <th>4</th>\\n      <td>Including North Sea revenue (geographical share)</td>\\n      <td>740</td>\\n      <td>704</td>\\n      <td>3</td>\\n      <td>787</td>\\n      <td>-8966</td>\\n    </tr>\\n    <tr>\\n      <th>5</th>\\n      <td>NaN</td>\\n      <td>(% of GDP)</td>\\n      <td>NaN</td>\\n      <td>NaN</td>\\n      <td>NaN</td>\\n      <td>NaN</td>\\n    </tr>\\n    <tr>\\n      <th>6</th>\\n      <td>Excluding North Sea revenue</td>\\n      <td>-0.073</td>\\n      <td>-0.064</td>\\n      <td>-0.062</td>\\n      <td>-0.095</td>\\n      <td>-0.134</td>\\n    </tr>\\n    <tr>\\n      <th>7</th>\\n      <td>Including North Sea revenue (per capita share)</td>\\n      <td>-0.063</td>\\n      <td>-0.055</td>\\n      <td>-0.056</td>\\n      <td>-0.084</td>\\n      <td>-0.126</td>\\n    </tr>\\n    <tr>\\n      <th>8</th>\\n      <td>Including North Sea revenue (geographical share)</td>\\n      <td>0.006</td>\\n      <td>0.006</td>\\n      <td>0</td>\\n      <td>0.006</td>\\n      <td>-0.068</td>\\n    </tr>\\n  </tbody>\\n</table>\\n</div>'}, 'metadata': {}},))\n"
     ]
    },
    {
     "name": "stdout",
     "output_type": "stream",
     "text": [
      "Selecting: Table E.4\n",
      "printing output: Output(outputs=({'output_type': 'display_data', 'data': {'text/plain': '  Table E.4: Net Fiscal Balance: Scotland 2005-06 to 2009-10   Unnamed: 1  \\\\\\n0                                                NaN          (£ million)   \\n1                                                NaN              2005-06   \\n2                        Excluding North Sea revenue               -10123   \\n3     Including North Sea revenue (per capita share)                -9330   \\n4   Including North Sea revenue (geographical share)                -2106   \\n5                                                NaN           (% of GDP)   \\n6                        Excluding North Sea revenue               -0.101   \\n7     Including North Sea revenue (per capita share)               -0.091   \\n8   Including North Sea revenue (geographical share)               -0.017   \\n\\n  Unnamed: 2 Unnamed: 3 Unnamed: 4 Unnamed: 5  \\n0        NaN        NaN        NaN        NaN  \\n1    2006-07    2007-08    2008-09    2009-10  \\n2     -10420     -10771     -15782     -19885  \\n3      -9666     -10142     -14694     -19339  \\n4      -2916      -3656      -4043     -13954  \\n5        NaN        NaN        NaN        NaN  \\n6     -0.098     -0.094     -0.137     -0.178  \\n7     -0.089     -0.087     -0.125      -0.17  \\n8     -0.023     -0.026     -0.029     -0.106  ', 'text/html': '<div>\\n<style scoped>\\n    .dataframe tbody tr th:only-of-type {\\n        vertical-align: middle;\\n    }\\n\\n    .dataframe tbody tr th {\\n        vertical-align: top;\\n    }\\n\\n    .dataframe thead th {\\n        text-align: right;\\n    }\\n</style>\\n<table border=\"1\" class=\"dataframe\">\\n  <thead>\\n    <tr style=\"text-align: right;\">\\n      <th></th>\\n      <th>Table E.4: Net Fiscal Balance: Scotland 2005-06 to 2009-10</th>\\n      <th>Unnamed: 1</th>\\n      <th>Unnamed: 2</th>\\n      <th>Unnamed: 3</th>\\n      <th>Unnamed: 4</th>\\n      <th>Unnamed: 5</th>\\n    </tr>\\n  </thead>\\n  <tbody>\\n    <tr>\\n      <th>0</th>\\n      <td>NaN</td>\\n      <td>(£ million)</td>\\n      <td>NaN</td>\\n      <td>NaN</td>\\n      <td>NaN</td>\\n      <td>NaN</td>\\n    </tr>\\n    <tr>\\n      <th>1</th>\\n      <td>NaN</td>\\n      <td>2005-06</td>\\n      <td>2006-07</td>\\n      <td>2007-08</td>\\n      <td>2008-09</td>\\n      <td>2009-10</td>\\n    </tr>\\n    <tr>\\n      <th>2</th>\\n      <td>Excluding North Sea revenue</td>\\n      <td>-10123</td>\\n      <td>-10420</td>\\n      <td>-10771</td>\\n      <td>-15782</td>\\n      <td>-19885</td>\\n    </tr>\\n    <tr>\\n      <th>3</th>\\n      <td>Including North Sea revenue (per capita share)</td>\\n      <td>-9330</td>\\n      <td>-9666</td>\\n      <td>-10142</td>\\n      <td>-14694</td>\\n      <td>-19339</td>\\n    </tr>\\n    <tr>\\n      <th>4</th>\\n      <td>Including North Sea revenue (geographical share)</td>\\n      <td>-2106</td>\\n      <td>-2916</td>\\n      <td>-3656</td>\\n      <td>-4043</td>\\n      <td>-13954</td>\\n    </tr>\\n    <tr>\\n      <th>5</th>\\n      <td>NaN</td>\\n      <td>(% of GDP)</td>\\n      <td>NaN</td>\\n      <td>NaN</td>\\n      <td>NaN</td>\\n      <td>NaN</td>\\n    </tr>\\n    <tr>\\n      <th>6</th>\\n      <td>Excluding North Sea revenue</td>\\n      <td>-0.101</td>\\n      <td>-0.098</td>\\n      <td>-0.094</td>\\n      <td>-0.137</td>\\n      <td>-0.178</td>\\n    </tr>\\n    <tr>\\n      <th>7</th>\\n      <td>Including North Sea revenue (per capita share)</td>\\n      <td>-0.091</td>\\n      <td>-0.089</td>\\n      <td>-0.087</td>\\n      <td>-0.125</td>\\n      <td>-0.17</td>\\n    </tr>\\n    <tr>\\n      <th>8</th>\\n      <td>Including North Sea revenue (geographical share)</td>\\n      <td>-0.017</td>\\n      <td>-0.023</td>\\n      <td>-0.026</td>\\n      <td>-0.029</td>\\n      <td>-0.106</td>\\n    </tr>\\n  </tbody>\\n</table>\\n</div>'}, 'metadata': {}},))\n",
      "Selecting: Table E.1\n"
     ]
    }
   ],
   "source": [
    "output = widgets.Output(value=list(categories[summary])[0])\n",
    "        \n",
    "dropdown = widgets.Dropdown(\n",
    "    options=categories[summary],\n",
    "    description=f'{summary}:',\n",
    "    disabled=False,\n",
    "    style={'description_width': 'initial'},\n",
    "    layout={'width': 'max-content'}\n",
    ")\n",
    "\n",
    "def display_data(tablename):\n",
    "    print(f'printing output: {output}')\n",
    "    \n",
    "    output.clear_output()\n",
    "    sheet_name = tablename.old.split(':')[0]\n",
    "    sheet = wb[sheet_name]\n",
    "    \n",
    "    print(f'Selecting: {sheet_name}')\n",
    "    \n",
    "    with output:\n",
    "        display(sheet)\n",
    "    \n",
    "\n",
    "def dropdown_eventhandler(change):\n",
    "    display_data(change)\n",
    "\n",
    "dropdown.observe(dropdown_eventhandler, names='value')\n",
    "\n",
    "display(dropdown)\n",
    "display(output)"
   ]
  },
  {
   "cell_type": "code",
   "execution_count": 27,
   "metadata": {
    "scrolled": true
   },
   "outputs": [
    {
     "data": {
      "application/vnd.jupyter.widget-view+json": {
       "model_id": "5a39bbeb81c74a65a32b3c13c9361543",
       "version_major": 2,
       "version_minor": 0
      },
      "text/plain": [
       "Output(outputs=({'output_type': 'display_data', 'data': {'text/plain': '  Table E.1: Public Sector Total Manag…"
      ]
     },
     "metadata": {},
     "output_type": "display_data"
    }
   ],
   "source": [
    "display(output)"
   ]
  },
  {
   "cell_type": "code",
   "execution_count": 67,
   "metadata": {
    "scrolled": true
   },
   "outputs": [
    {
     "data": {
      "application/vnd.jupyter.widget-view+json": {
       "model_id": "9ba2c6b18b98405cb2819c0cedb7e919",
       "version_major": 2,
       "version_minor": 0
      },
      "text/plain": [
       "VBox(children=(HBox(children=(Dropdown(description='Data: ', layout=Layout(width='max-content'), options=('Tab…"
      ]
     },
     "metadata": {},
     "output_type": "display_data"
    }
   ],
   "source": [
    "def sheet_name_from_title(title: str):\n",
    "    return title.split(':')[0]\n",
    "\n",
    "\n",
    "def display_category(category_data):\n",
    "    raw_output = widgets.Output()\n",
    "    preview_output = widgets.Output()\n",
    "    \n",
    "    # set the output to the first item\n",
    "    title = list(category_data)[0]\n",
    "    table = wb[sheet_name_from_title(title)]\n",
    "    raw_output.append_display_data(table)\n",
    "   \n",
    "    dropdown = widgets.Dropdown(\n",
    "        options=category_data,\n",
    "        description='Data: ',\n",
    "        disabled=False,\n",
    "        style={'description_width': 'initial'},\n",
    "        layout={'width': 'max-content'}\n",
    "    )\n",
    "\n",
    "    def display_data(tablename):\n",
    "        raw_output.clear_output()\n",
    "        sheet = wb[sheet_name_from_title(tablename.new)]\n",
    "\n",
    "        with raw_output:\n",
    "            display(sheet)\n",
    "\n",
    "    def dropdown_eventhandler(change):\n",
    "        display_data(change)\n",
    "\n",
    "    dropdown.observe(dropdown_eventhandler, names='value')\n",
    "    \n",
    "    preview_button = widgets.Button(description='Preview')\n",
    "    export_button = widgets.Button(description='Export')\n",
    "    \n",
    "    def preview_data(data):\n",
    "        preview_output.clear_output()\n",
    "        \n",
    "        with preview_output:\n",
    "            display(data)\n",
    "    \n",
    "    def preview_eventhandler(btn_object):\n",
    "        preview_data(f'You\\'ve pressed the {btn_object.description} button')\n",
    "        \n",
    "    preview_button.on_click(preview_eventhandler)\n",
    "    export_button.on_click(preview_eventhandler)\n",
    "    \n",
    "    return widgets.VBox([widgets.HBox([dropdown, preview_button, export_button]), raw_output, preview_output])\n",
    "    \n",
    "display_category(categories[summary])"
   ]
  },
  {
   "cell_type": "code",
   "execution_count": 69,
   "metadata": {
    "scrolled": false
   },
   "outputs": [
    {
     "data": {
      "application/vnd.jupyter.widget-view+json": {
       "model_id": "783e7e0585e54a4b994f08d3eeb25d57",
       "version_major": 2,
       "version_minor": 0
      },
      "text/plain": [
       "Tab(children=(VBox(children=(HBox(children=(Dropdown(description='Data: ', layout=Layout(width='max-content'),…"
      ]
     },
     "metadata": {},
     "output_type": "display_data"
    }
   ],
   "source": [
    "def tabbed_categories(categories):\n",
    "    category_selector = widgets.Tab()\n",
    "\n",
    "    children = []\n",
    "    i = 0\n",
    "\n",
    "    for c in categories:\n",
    "        children.append(display_category(categories[c]))\n",
    "        category_selector.set_title(i, c)\n",
    "        i = i + 1\n",
    "\n",
    "    category_selector.children = children\n",
    "\n",
    "    return category_selector\n",
    "    \n",
    "tabbed_categories(categories)"
   ]
  },
  {
   "cell_type": "code",
   "execution_count": null,
   "metadata": {},
   "outputs": [],
   "source": [
    "# output filename\n",
    "\n",
    "def get_filename_from_title(sheet):\n",
    "    columns = sheet.columns\n",
    "    \n",
    "    fname = columns[0].split(':')[1].strip()\n",
    "    fname = fname.replace(' ', '_').lower()\n",
    "    fname = f'{fname}.csv'\n",
    "    \n",
    "    return fname"
   ]
  },
  {
   "cell_type": "code",
   "execution_count": null,
   "metadata": {
    "scrolled": true
   },
   "outputs": [],
   "source": [
    "def get_clean_dataframe(sheet):\n",
    "    df = pd.DataFrame()\n",
    "    suffix = ''\n",
    "\n",
    "    for i, r in sheet.iterrows():\n",
    "        # check for total non NaN values\n",
    "        total_values_in_row = len(r) - r.isna().sum()\n",
    "\n",
    "        if total_values_in_row > 1:\n",
    "            l = list(r)\n",
    "            # check for missing first value (Assumed period)\n",
    "            if isinstance(r[1], str) and np.isnan(r[0]):\n",
    "                # set the year from original string\n",
    "                df['Period'] = [f'{y[0:2]}{y.split(\"-\")[1]}' for y in l[1:]]\n",
    "                \n",
    "            else:\n",
    "                df[f'{l[0]} {suffix}'] = l[1:]\n",
    "        # second value is a suffix for the next rows until it changes again\n",
    "        else:\n",
    "            suffix = r[1]\n",
    "\n",
    "    return df"
   ]
  },
  {
   "cell_type": "code",
   "execution_count": null,
   "metadata": {},
   "outputs": [],
   "source": [
    "def export_data(df: pd.DataFrame, filename: str):\n",
    "    # check for holding child dir\n",
    "    dir_name = df.iloc[4][0]\n",
    "    dir_path = Path(OUTPUT_DIR.value, dir_name)\n",
    "\n",
    "    if not dir_path.exists():\n",
    "        dir_path.mkdir(parents=True, exist_ok=True)\n",
    "\n",
    "    file_path = Path(dir_path, filename)\n",
    "\n",
    "    data.to_csv(file_path, sep=',', encoding='utf-8')"
   ]
  },
  {
   "cell_type": "code",
   "execution_count": null,
   "metadata": {
    "scrolled": false
   },
   "outputs": [],
   "source": [
    "# for sheet in table_names:\n",
    "    \n",
    "#     print(f'Processing Sheet: {sheet}')\n",
    "    \n",
    "#     filename = get_filename_from_title(wb[sheet])\n",
    "#     data = get_clean_dataframe(wb[sheet])\n",
    "#     export_data(data, filename)"
   ]
  }
 ],
 "metadata": {
  "kernelspec": {
   "display_name": "Python 3",
   "language": "python",
   "name": "python3"
  },
  "language_info": {
   "codemirror_mode": {
    "name": "ipython",
    "version": 3
   },
   "file_extension": ".py",
   "mimetype": "text/x-python",
   "name": "python",
   "nbconvert_exporter": "python",
   "pygments_lexer": "ipython3",
   "version": "3.7.4"
  }
 },
 "nbformat": 4,
 "nbformat_minor": 2
}
